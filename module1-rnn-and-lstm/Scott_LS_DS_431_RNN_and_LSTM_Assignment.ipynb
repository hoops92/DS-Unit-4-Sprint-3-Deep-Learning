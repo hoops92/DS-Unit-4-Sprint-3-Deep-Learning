{
  "nbformat": 4,
  "nbformat_minor": 0,
  "metadata": {
    "kernelspec": {
      "display_name": "U4-S2-NN-1 (Python3)",
      "language": "python",
      "name": "u4-s2-nn-1"
    },
    "language_info": {
      "codemirror_mode": {
        "name": "ipython",
        "version": 3
      },
      "file_extension": ".py",
      "mimetype": "text/x-python",
      "name": "python",
      "nbconvert_exporter": "python",
      "pygments_lexer": "ipython3",
      "version": "3.7.0"
    },
    "colab": {
      "name": "Scott_LS_DS_431_RNN_and_LSTM_Assignment.ipynb",
      "provenance": [],
      "include_colab_link": true
    }
  },
  "cells": [
    {
      "cell_type": "markdown",
      "metadata": {
        "id": "view-in-github",
        "colab_type": "text"
      },
      "source": [
        "<a href=\"https://colab.research.google.com/github/hoops92/DS-Unit-4-Sprint-3-Deep-Learning/blob/master/module1-rnn-and-lstm/Scott_LS_DS_431_RNN_and_LSTM_Assignment.ipynb\" target=\"_parent\"><img src=\"https://colab.research.google.com/assets/colab-badge.svg\" alt=\"Open In Colab\"/></a>"
      ]
    },
    {
      "cell_type": "markdown",
      "metadata": {
        "id": "M8yMgEJ38O5P",
        "colab_type": "text"
      },
      "source": [
        "<img align=\"left\" src=\"https://lever-client-logos.s3.amazonaws.com/864372b1-534c-480e-acd5-9711f850815c-1524247202159.png\" width=200>\n",
        "<br></br>\n",
        "<br></br>\n",
        "\n",
        "## *Data Science Unit 4 Sprint 3 Assignment 1*\n",
        "\n",
        "# Recurrent Neural Networks and Long Short Term Memory (LSTM)\n",
        "\n",
        "![Monkey at a typewriter](https://upload.wikimedia.org/wikipedia/commons/thumb/3/3c/Chimpanzee_seated_at_typewriter.jpg/603px-Chimpanzee_seated_at_typewriter.jpg)\n",
        "\n",
        "It is said that [infinite monkeys typing for an infinite amount of time](https://en.wikipedia.org/wiki/Infinite_monkey_theorem) will eventually type, among other things, the complete works of Wiliam Shakespeare. Let's see if we can get there a bit faster, with the power of Recurrent Neural Networks and LSTM.\n",
        "\n",
        "This text file contains the complete works of Shakespeare: https://www.gutenberg.org/files/100/100-0.txt\n",
        "\n",
        "Use it as training data for an RNN - you can keep it simple and train character level, and that is suggested as an initial approach.\n",
        "\n",
        "Then, use that trained RNN to generate Shakespearean-ish text. Your goal - a function that can take, as an argument, the size of text (e.g. number of characters or lines) to generate, and returns generated text of that size.\n",
        "\n",
        "Note - Shakespeare wrote an awful lot. It's OK, especially initially, to sample/use smaller data and parameters, so you can have a tighter feedback loop when you're trying to get things running. Then, once you've got a proof of concept - start pushing it more!"
      ]
    },
    {
      "cell_type": "code",
      "metadata": {
        "colab_type": "code",
        "id": "Ltj1je1fp5rO",
        "colab": {}
      },
      "source": [
        "# TODO - Words, words, mere words, no matter from the heart.\n",
        "from tensorflow.keras.callbacks import LambdaCallback\n",
        "from tensorflow.keras.models import Sequential\n",
        "from tensorflow.keras.layers import Dense, LSTM\n",
        "from tensorflow.keras.optimizers import RMSprop\n",
        "\n",
        "import numpy as np\n",
        "import random\n",
        "import sys\n",
        "import requests"
      ],
      "execution_count": 0,
      "outputs": []
    },
    {
      "cell_type": "code",
      "metadata": {
        "id": "E_7G6YI-8O5c",
        "colab_type": "code",
        "colab": {}
      },
      "source": [
        "url=\"https://www.gutenberg.org/files/100/100-0.txt\""
      ],
      "execution_count": 0,
      "outputs": []
    },
    {
      "cell_type": "code",
      "metadata": {
        "id": "9_TNS9jN8O5h",
        "colab_type": "code",
        "colab": {}
      },
      "source": [
        "r = requests.get(url)\n",
        "data = r.text\n",
        "\n",
        "\n"
      ],
      "execution_count": 0,
      "outputs": []
    },
    {
      "cell_type": "code",
      "metadata": {
        "id": "_pNFuWyi8O5n",
        "colab_type": "code",
        "colab": {}
      },
      "source": [
        "data = data.split('\\r\\n')"
      ],
      "execution_count": 0,
      "outputs": []
    },
    {
      "cell_type": "code",
      "metadata": {
        "id": "1J_ZO4I18O5u",
        "colab_type": "code",
        "colab": {}
      },
      "source": [
        "data = data.split('â\\x80\\x99')"
      ],
      "execution_count": 0,
      "outputs": []
    },
    {
      "cell_type": "code",
      "metadata": {
        "id": "ckyWaOmy8O50",
        "colab_type": "code",
        "colab": {}
      },
      "source": [
        "text=\" \".join(data)"
      ],
      "execution_count": 0,
      "outputs": []
    },
    {
      "cell_type": "code",
      "metadata": {
        "id": "ymKlpOsD8O57",
        "colab_type": "code",
        "colab": {}
      },
      "source": [
        "# Unique Characters\n",
        "chars = list(set(text))\n",
        "\n",
        "# Lookup Tables\n",
        "char_int = {c:i for i, c in enumerate(chars)} \n",
        "int_char = {i:c for i, c in enumerate(chars)} "
      ],
      "execution_count": 0,
      "outputs": []
    },
    {
      "cell_type": "code",
      "metadata": {
        "id": "3C2yL0eW8O6D",
        "colab_type": "code",
        "outputId": "fd4e50b5-a305-4780-c026-b0d1c5196ba3",
        "colab": {}
      },
      "source": [
        "len(chars)"
      ],
      "execution_count": 0,
      "outputs": [
        {
          "output_type": "execute_result",
          "data": {
            "text/plain": [
              "111"
            ]
          },
          "metadata": {
            "tags": []
          },
          "execution_count": 52
        }
      ]
    },
    {
      "cell_type": "code",
      "metadata": {
        "id": "3rZ9bqJg8O6L",
        "colab_type": "code",
        "outputId": "b7c8cabe-b91b-413b-f1af-5737c28b31ab",
        "colab": {}
      },
      "source": [
        "char_int[0]"
      ],
      "execution_count": 0,
      "outputs": [
        {
          "output_type": "error",
          "ename": "KeyError",
          "evalue": "0",
          "traceback": [
            "\u001b[0;31m---------------------------------------------------------------------------\u001b[0m",
            "\u001b[0;31mKeyError\u001b[0m                                  Traceback (most recent call last)",
            "\u001b[0;32m<ipython-input-59-b4afabc651ea>\u001b[0m in \u001b[0;36m<module>\u001b[0;34m\u001b[0m\n\u001b[0;32m----> 1\u001b[0;31m \u001b[0mchar_int\u001b[0m\u001b[0;34m[\u001b[0m\u001b[0;36m0\u001b[0m\u001b[0;34m]\u001b[0m\u001b[0;34m\u001b[0m\u001b[0m\n\u001b[0m",
            "\u001b[0;31mKeyError\u001b[0m: 0"
          ]
        }
      ]
    },
    {
      "cell_type": "code",
      "metadata": {
        "id": "N8muifVh8O6T",
        "colab_type": "code",
        "outputId": "f4b482d4-bc16-454a-8b5f-fb5f0267ff7f",
        "colab": {}
      },
      "source": [
        "maxlen = 40\n",
        "step = 5\n",
        "\n",
        "encoded = [char_int[c] for c in text]\n",
        "\n",
        "sequences = [] # Each element is 40 chars long\n",
        "next_char = [] # One element for each sequence\n",
        "\n",
        "for i in range(0, len(encoded) - maxlen, step):\n",
        "    \n",
        "    sequences.append(encoded[i : i + maxlen])\n",
        "    next_char.append(encoded[i + maxlen])\n",
        "    \n",
        "print('sequences: ', len(sequences))"
      ],
      "execution_count": 0,
      "outputs": [
        {
          "output_type": "stream",
          "text": [
            "sequences:  1723242\n"
          ],
          "name": "stdout"
        }
      ]
    },
    {
      "cell_type": "code",
      "metadata": {
        "id": "Mv5EOIxs8O6Z",
        "colab_type": "code",
        "colab": {}
      },
      "source": [
        "x = np.zeros((len(sequences), maxlen, len(chars)), dtype=np.bool)\n",
        "y = np.zeros((len(sequences),len(chars)), dtype=np.bool)\n",
        "\n",
        "for i, sequence in enumerate(sequences):\n",
        "    for t, char in enumerate(sequence):\n",
        "        x[i,t,char] = 1\n",
        "        \n",
        "    y[i, next_char[i]] = 1"
      ],
      "execution_count": 0,
      "outputs": []
    },
    {
      "cell_type": "code",
      "metadata": {
        "id": "ryMFtX0f8O6e",
        "colab_type": "code",
        "colab": {}
      },
      "source": [
        "model = Sequential()\n",
        "model.add(LSTM(128, input_shape=(maxlen, len(chars))))\n",
        "model.add(Dense(len(chars), activation='softmax'))\n",
        "\n",
        "model.compile(loss='categorical_crossentropy', optimizer='adam')"
      ],
      "execution_count": 0,
      "outputs": []
    },
    {
      "cell_type": "code",
      "metadata": {
        "id": "qsJef-vP8O6j",
        "colab_type": "code",
        "colab": {}
      },
      "source": [
        "def sample(preds):\n",
        "    # helper function to sample an index from a probability array\n",
        "    preds = np.asarray(preds).astype('float64')\n",
        "    preds = np.log(preds) / 1\n",
        "    exp_preds = np.exp(preds)\n",
        "    preds = exp_preds / np.sum(exp_preds)\n",
        "    probas = np.random.multinomial(1, preds, 1)\n",
        "    return np.argmax(probas)"
      ],
      "execution_count": 0,
      "outputs": []
    },
    {
      "cell_type": "code",
      "metadata": {
        "id": "bOy52pVX8O6n",
        "colab_type": "code",
        "colab": {}
      },
      "source": [
        "def on_epoch_end(epoch, _):\n",
        "    # Function invoked at end of each epoch. Prints generated text.\n",
        "    \n",
        "    print()\n",
        "    print('----- Generating text after Epoch: %d' % epoch)\n",
        "    \n",
        "    start_index = random.randint(0, len(text) - maxlen - 1)\n",
        "    \n",
        "    generated = ''\n",
        "    \n",
        "    sentence = text[start_index: start_index + maxlen]\n",
        "    generated += sentence\n",
        "    \n",
        "    print('----- Generating with seed: \"' + sentence + '\"')\n",
        "    sys.stdout.write(generated)\n",
        "    \n",
        "    for i in range(400):\n",
        "        x_pred = np.zeros((1, maxlen, len(chars)))\n",
        "        for t, char in enumerate(sentence):\n",
        "            x_pred[0, t, char_int[char]] = 1\n",
        "            \n",
        "        preds = model.predict(x_pred, verbose=0)[0]\n",
        "        next_index = sample(preds)\n",
        "        next_char = int_char[next_index]\n",
        "        \n",
        "        sentence = sentence[1:] + next_char\n",
        "        \n",
        "        sys.stdout.write(next_char)\n",
        "        sys.stdout.flush()\n",
        "    print()\n",
        "\n",
        "\n",
        "print_callback = LambdaCallback(on_epoch_end=on_epoch_end)"
      ],
      "execution_count": 0,
      "outputs": []
    },
    {
      "cell_type": "code",
      "metadata": {
        "id": "sQfSj4HY8O6s",
        "colab_type": "code",
        "outputId": "10633baa-f06f-4a6a-8771-5d45e894b1b9",
        "colab": {}
      },
      "source": [
        "model.fit(x, y,\n",
        "          batch_size=32,\n",
        "          epochs=10,\n",
        "          callbacks=[print_callback])"
      ],
      "execution_count": 0,
      "outputs": [
        {
          "output_type": "stream",
          "text": [
            "Train on 1723242 samples\n",
            "Epoch 1/10\n",
            "1723200/1723242 [============================>.] - ETA: 0s - loss: 1.2444\n",
            "----- Generating text after Epoch: 0\n",
            "----- Generating with seed: \"G O . W h a t s h o u l d I d o ? I c o \"\n",
            "G O . W h a t s h o u l d I d o ? I c o u l d w i l l b e"
          ],
          "name": "stdout"
        },
        {
          "output_type": "stream",
          "text": [
            "/Users/huanqingxu/opt/anaconda3/envs/U4-S2-NN-1/lib/python3.7/site-packages/ipykernel_launcher.py:4: RuntimeWarning: divide by zero encountered in log\n",
            "  after removing the cwd from sys.path.\n"
          ],
          "name": "stderr"
        },
        {
          "output_type": "stream",
          "text": [
            " t r e a d l o w ! f o m i n g o f , t h a t h o n e h i s s h a l l y o u r e t i s ! G o d y p u p b e s t a f e w , k e s i o . D o w i t h , t o h i s , y o u m y b e h i f b l a y a p e a t i n g l e v e n t a r t m y I c o m e , b e a c o m e o u t s o m e c r u c h f o r t h e q u u v e ! I w o r n c e t h e p a l c o n e r e t o d e t c i t s l a n t u i n d e s b r e p ; \n",
            "1723242/1723242 [==============================] - 1210s 702us/sample - loss: 1.2444\n",
            "Epoch 2/10\n",
            "1723200/1723242 [============================>.] - ETA: 0s - loss: 1.0818\n",
            "----- Generating text after Epoch: 1\n",
            "----- Generating with seed: \" e e p s t h e e t o t h i s p u r p o s\"\n",
            " e e p s t h e e t o t h i s p u r p o s e t t a u s e t o t h e g o w n . G o o d J i v e w i l l n o t h e h a v e n e t o x a g e , w i t h d e e t t h a t o n e l u k e t o u r h a d f a u g h t r i m i n s e y t o t h e s o t h e c o n s e b l e t s t t h e a v o l y , A f r i e n d t h e w i l l I p l a y y o u w e r e ? B U H I U S . B u t w h i t h e d m i n e s m i g h t ; g i v e h i m t h a t c a n n e a s c u p o u r ' d ' e\n",
            "1723242/1723242 [==============================] - 1213s 704us/sample - loss: 1.0818\n",
            "Epoch 3/10\n",
            "1723168/1723242 [============================>.] - ETA: 0s - loss: 1.0301\n",
            "----- Generating text after Epoch: 2\n",
            "----- Generating with seed: \" i s o m e , a n d h e a v y . I w a n t\"\n",
            " i s o m e , a n d h e a v y . I w a n t u s i s w i t h a n d h e n d m e , t h e r e C h e a r t e r ! A n d e r m e a p e n m e ? â   m y s g r i e s t . O R . F a r t h e e q u a k e t h e h e a r t I s h e g o a s y o u r l a m b a c h i n g ; a n d m i n e y o u ? Y o u r s u f f f e s t , A n d s h i p e s t a r s e v e n i u s ; W h i c h I D a u n d s , M a n k n e s s . T h a n n o , I a m t h i n e s i a r s c r y t h e p r\n",
            "1723242/1723242 [==============================] - 1095s 635us/sample - loss: 1.0301\n",
            "Epoch 4/10\n",
            "1723232/1723242 [============================>.] - ETA: 0s - loss: 1.0026\n",
            "----- Generating text after Epoch: 3\n",
            "----- Generating with seed: \" F F . B u t t o s a y I k n o w m o r e\"\n",
            " F F . B u t t o s a y I k n o w m o r e s a d i e s w i l l , s i r . A P R I C L A S . N o , I f B e a r m a k e t h r o t h . I s p e a k o f t e n l a i d o f m y h o u l d i n t h e m i s i o u t u s i s s t r a n g e , b o y r h e a r t C a r d , w h i c h I f o u n d e r , A s d e a t h , p a t , b a d h o n o u r c a n c o u n t e r s t h e p e e s t f o r t h e e , s t r u g h t ! L A D Y M O T H . S a l e s o b u t a n d f o r\n",
            "1723242/1723242 [==============================] - 1321s 767us/sample - loss: 1.0026\n",
            "Epoch 5/10\n",
            "1723200/1723242 [============================>.] - ETA: 0s - loss: 0.9856\n",
            "----- Generating text after Epoch: 4\n",
            "----- Generating with seed: \"r i t y I w i l l p r o c l a i m i t , \"\n",
            "r i t y I w i l l p r o c l a i m i t , o t e t h i m o f a c o n s p i d s t e n d : i t p l e a s u r e y o u s p e e d s t h e m b l e a r i n g d i e s i s n a r g e , a n d i t , o u w e n c e , a n d l i f e o d a l l m y t a l k i n g g o t s o n t h e m . B e , a n i g n b e a n d f o r c e i n . T h e n o n e o f a h u m b s o n m e . G o o d d u d a n d d r e a m e n d i o w a r d t h y s t r a n g a n t o m e n ? C a m e t o \n",
            "1723242/1723242 [==============================] - 1148s 666us/sample - loss: 0.9856\n",
            "Epoch 6/10\n",
            "1723232/1723242 [============================>.] - ETA: 0s - loss: 0.9738\n",
            "----- Generating text after Epoch: 5\n",
            "----- Generating with seed: \"O . I a l m o s t d i e f o r f o o d , \"\n",
            "O . I a l m o s t d i e f o r f o o d , g o o d c o o r a m p i r e w h o g r o a c h i t i n c o u r t i e s , f o r l o s s e y o u b e t h e r e s t t h o u t o n E i g e T o n i g h t , b u i l t o n m e , T h o u k n o w t h e e n o h e a r t S u c h a s s a t e . [ _ E x e u n t , v i r g o d s : c o u l d c e i r t w e n n e s o o n a k i s t . [ L o y d e a l t o n s e s s e v e r e s s . W h y s h o u s e m e b e a u t y , I a \n",
            "1723242/1723242 [==============================] - 1117s 648us/sample - loss: 0.9738\n",
            "Epoch 7/10\n",
            "1723168/1723242 [============================>.] - ETA: 0s - loss: 0.9646\n",
            "----- Generating text after Epoch: 6\n",
            "----- Generating with seed: \"l d , w h i c h y o u d e n i e d m e ; \"\n",
            "l d , w h i c h y o u d e n i e d m e ; L e t e d t h o r e s h i s a n o r s f o e t o s a y I h a v e h e g o o d l a y t o m e g e n g e a p , I n e v e r m e w h e r e l o v e t h e m . C O S T A R D , f o r d a m a n d R i g a b l e s e p l e e r , T h e n . P E T E R . S h a l l t h y m u c h C r u e l e a n t t h a n h o w s q u o t h s t r a n c e . P E T R U M P O G H A S R E N . I t h i n k t h a t ? [ T h e L U C I O . I h a \n",
            "1723242/1723242 [==============================] - 1138s 660us/sample - loss: 0.9646\n",
            "Epoch 8/10\n",
            "1723232/1723242 [============================>.] - ETA: 0s - loss: 0.9569\n",
            "----- Generating text after Epoch: 7\n",
            "----- Generating with seed: \" i s e y e s s a w h e r e y e s , a s t\"\n",
            " i s e y e s s a w h e r e y e s , a s t o b e q u i l i l l s t h o u l o v e r o f f i c i t i e s . H o w n o w i s n o t s e e r . [ _ E x i u r c h a l l e s s r e t c h t o o u r n a i g h t , f o r s p o k i n g . S o l u n c e I s i t h e i f o d t r i s a c o r d m y s e l f M a n t r o n g m a l a i n b u t a h a n d s t o P a r n i a n e n i n m a d e p r i n c e a n d s a y y o u t o t h e i r t h o s e y o u r t r a i t o r\n",
            "1723242/1723242 [==============================] - 1166s 676us/sample - loss: 0.9569\n",
            "Epoch 9/10\n",
            "1723232/1723242 [============================>.] - ETA: 0s - loss: 0.9512\n",
            "----- Generating text after Epoch: 8\n",
            "----- Generating with seed: \"l s c o u r m y s h a m e w i t h i t : \"\n",
            "l s c o u r m y s h a m e w i t h i t : A n d b u t m y r a s i n g m a r r y . [ _ o w e r . T h e n w h i c h s e l f s p e a k . i f y o u s p o r t a n e a d i d s o u r a p e l s e . T h o u d o m y d e n y t a k e s o l e n d . I f y o u m a i n t h e s i n b e t w e e n . W A R W I C H O P F L I C T O . W h y s o m u c h i t ; s o o t h c h a s t s y o u r M a n i t y e j o i g a n . _ ] H e a v e n s i n q u i c k p a m e o f f \n",
            "1723242/1723242 [==============================] - 1089s 632us/sample - loss: 0.9512\n",
            "Epoch 10/10\n",
            "1723200/1723242 [============================>.] - ETA: 0s - loss: 0.9466\n",
            "----- Generating text after Epoch: 9\n",
            "----- Generating with seed: \"o r d o t h t h e g e n e r a l c a r e \"\n",
            "o r d o t h t h e g e n e r a l c a r e w i t h y o u , s i r , I h a v e a s f a t h e r , a n d u n a s e h a r n i n g i f a n o w n o . L U C I O . T h e s a n d s e r v e r o u l o r k i n ' s o f t h e s e t o i n j o y . F A L S T A F F F E B B Y , ' S c o n t e r d t h y r e t r e c t i o n c o m m i t s a n d h e a r t e d r e s h i e v e , F o r c e i v d w h o s e v o i c i b l a b l e w e r e c o m m e n s i n g n o o b l y \n",
            "1723242/1723242 [==============================] - 1105s 641us/sample - loss: 0.9466\n"
          ],
          "name": "stdout"
        },
        {
          "output_type": "execute_result",
          "data": {
            "text/plain": [
              "<tensorflow.python.keras.callbacks.History at 0x1464bc0b8>"
            ]
          },
          "metadata": {
            "tags": []
          },
          "execution_count": 58
        }
      ]
    },
    {
      "cell_type": "markdown",
      "metadata": {
        "colab_type": "text",
        "id": "zE4a4O7Bp5x1"
      },
      "source": [
        "# Resources and Stretch Goals"
      ]
    },
    {
      "cell_type": "markdown",
      "metadata": {
        "colab_type": "text",
        "id": "uT3UV3gap9H6"
      },
      "source": [
        "## Stretch goals:\n",
        "- Refine the training and generation of text to be able to ask for different genres/styles of Shakespearean text (e.g. plays versus sonnets)\n",
        "- Train a classification model that takes text and returns which work of Shakespeare it is most likely to be from\n",
        "- Make it more performant! Many possible routes here - lean on Keras, optimize the code, and/or use more resources (AWS, etc.)\n",
        "- Revisit the news example from class, and improve it - use categories or tags to refine the model/generation, or train a news classifier\n",
        "- Run on bigger, better data\n",
        "\n",
        "## Resources:\n",
        "- [The Unreasonable Effectiveness of Recurrent Neural Networks](https://karpathy.github.io/2015/05/21/rnn-effectiveness/) - a seminal writeup demonstrating a simple but effective character-level NLP RNN\n",
        "- [Simple NumPy implementation of RNN](https://github.com/JY-Yoon/RNN-Implementation-using-NumPy/blob/master/RNN%20Implementation%20using%20NumPy.ipynb) - Python 3 version of the code from \"Unreasonable Effectiveness\"\n",
        "- [TensorFlow RNN Tutorial](https://github.com/tensorflow/models/tree/master/tutorials/rnn) - code for training a RNN on the Penn Tree Bank language dataset\n",
        "- [4 part tutorial on RNN](http://www.wildml.com/2015/09/recurrent-neural-networks-tutorial-part-1-introduction-to-rnns/) - relates RNN to the vanishing gradient problem, and provides example implementation\n",
        "- [RNN training tips and tricks](https://github.com/karpathy/char-rnn#tips-and-tricks) - some rules of thumb for parameterizing and training your RNN"
      ]
    }
  ]
}